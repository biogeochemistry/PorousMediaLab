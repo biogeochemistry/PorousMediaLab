{
 "cells": [
  {
   "cell_type": "markdown",
   "metadata": {},
   "source": [
    "#### Import libraries:"
   ]
  },
  {
   "cell_type": "code",
   "execution_count": 1,
   "metadata": {
    "ExecuteTime": {
     "end_time": "2020-07-02T18:22:04.274800Z",
     "start_time": "2020-07-02T18:22:03.021901Z"
    }
   },
   "outputs": [],
   "source": [
    "import sys\n",
    "sys.path.append('../')\n",
    "\n",
    "import matplotlib.pyplot as plt\n",
    "import numpy as np\n",
    "%matplotlib inline\n",
    "\n",
    "from porousmedialab.column import Column"
   ]
  },
  {
   "cell_type": "markdown",
   "metadata": {},
   "source": [
    "#### Setting up the properties of time-space and create the domain:"
   ]
  },
  {
   "cell_type": "code",
   "execution_count": 2,
   "metadata": {
    "ExecuteTime": {
     "end_time": "2020-07-02T18:22:04.279988Z",
     "start_time": "2020-07-02T18:22:04.277072Z"
    }
   },
   "outputs": [],
   "source": [
    "t = 27 / 365\n",
    "dx = 0.2\n",
    "L = 40\n",
    "phi = 0.8\n",
    "dt = 1e-4\n",
    "ftc = Column(L, dx, t, dt)"
   ]
  },
  {
   "cell_type": "markdown",
   "metadata": {},
   "source": [
    "#### To make things interesting lets create not simple inital conditions for iron:"
   ]
  },
  {
   "cell_type": "code",
   "execution_count": 3,
   "metadata": {
    "ExecuteTime": {
     "end_time": "2020-07-02T18:22:04.285783Z",
     "start_time": "2020-07-02T18:22:04.282063Z"
    }
   },
   "outputs": [],
   "source": [
    "x = np.linspace(0, L, int(L / dx) + 1)\n",
    "Fe3_init = np.zeros(x.size)\n",
    "Fe3_init[x > 5] = 75\n",
    "Fe3_init[x > 15] = 0\n",
    "Fe3_init[x > 25] = 75\n",
    "Fe3_init[x > 35] = 0"
   ]
  },
  {
   "cell_type": "markdown",
   "metadata": {},
   "source": [
    "#### Adding species with names, diffusion coefficients, initial concentrations and boundary top and bottom conditions:"
   ]
  },
  {
   "cell_type": "code",
   "execution_count": 4,
   "metadata": {
    "ExecuteTime": {
     "end_time": "2020-07-02T18:22:04.308899Z",
     "start_time": "2020-07-02T18:22:04.287732Z"
    }
   },
   "outputs": [],
   "source": [
    "ftc.add_species(theta=phi, name='O2', D=368, init_conc=0, bc_top_value=0.231, bc_top_type='dirichlet', bc_bot_value=0, bc_bot_type='flux')\n",
    "ftc.add_species(theta=phi, name='TIC', D=320, init_conc=0, bc_top_value=0, bc_top_type='flux', bc_bot_value=0, bc_bot_type='flux')\n",
    "ftc.add_species(theta=phi, name='Fe2', D=127, init_conc=0, bc_top_value=0, bc_top_type='flux', bc_bot_value=0, bc_bot_type='flux')\n",
    "\n",
    "ftc.add_species(theta=1-phi, name='OM', D=1e-18, init_conc=15, bc_top_value=0, bc_top_type='flux', bc_bot_value=0, bc_bot_type='flux')\n",
    "ftc.add_species(theta=1-phi, name='FeOH3', D=1e-18, init_conc=Fe3_init, bc_top_value=0, bc_top_type='flux', bc_bot_value=0, bc_bot_type='flux')\n",
    "\n",
    "ftc.add_species(theta=phi, name='CO2g', D=320, init_conc=0, bc_top_value=0, bc_top_type='flux', bc_bot_value=0, bc_bot_type='flux')\n",
    "ftc.henry_equilibrium('TIC', 'CO2g', 0.2*0.83)"
   ]
  },
  {
   "cell_type": "markdown",
   "metadata": {},
   "source": [
    "#### Specify the constants used in the rates:"
   ]
  },
  {
   "cell_type": "code",
   "execution_count": 5,
   "metadata": {
    "ExecuteTime": {
     "end_time": "2020-07-02T18:22:04.313299Z",
     "start_time": "2020-07-02T18:22:04.310268Z"
    }
   },
   "outputs": [],
   "source": [
    "ftc.constants['k_OM'] = 1\n",
    "ftc.constants['Km_O2'] = 1e-3\n",
    "ftc.constants['Km_FeOH3'] = 2\n",
    "ftc.constants['k8'] = 1.4e+5\n",
    "ftc.constants['Q10'] = 4  ### added\n",
    "ftc.constants['CF'] = (1-phi)/phi  ### conversion factor"
   ]
  },
  {
   "cell_type": "markdown",
   "metadata": {},
   "source": [
    "### Simulate Temperature with thermal diffusivity coefficient 281000 and init and boundary temperature 5C:"
   ]
  },
  {
   "cell_type": "code",
   "execution_count": 6,
   "metadata": {
    "ExecuteTime": {
     "end_time": "2020-07-02T18:22:04.320357Z",
     "start_time": "2020-07-02T18:22:04.314902Z"
    }
   },
   "outputs": [],
   "source": [
    "ftc.add_species(theta=0.99, name='Temperature', D=281000, init_conc=5, bc_top_value=5., bc_top_type='constant', bc_bot_value=0, bc_bot_type='flux')"
   ]
  },
  {
   "cell_type": "markdown",
   "metadata": {},
   "source": [
    "#### Add Q10 factor:"
   ]
  },
  {
   "cell_type": "code",
   "execution_count": 7,
   "metadata": {
    "ExecuteTime": {
     "end_time": "2020-07-02T18:22:04.324939Z",
     "start_time": "2020-07-02T18:22:04.322066Z"
    }
   },
   "outputs": [],
   "source": [
    "ftc.rates['R1'] = 'Q10**((Temperature-5)/10) * k_OM * OM * O2 / (Km_O2 + O2)'\n",
    "ftc.rates['R2'] = 'Q10**((Temperature-5)/10) * k_OM * OM * FeOH3 / (Km_FeOH3 + FeOH3) * Km_O2 / (Km_O2 + O2)'\n",
    "ftc.rates['R8'] = 'k8 * O2 * Fe2'"
   ]
  },
  {
   "cell_type": "markdown",
   "metadata": {},
   "source": [
    "#### ODEs for specific species:"
   ]
  },
  {
   "cell_type": "code",
   "execution_count": 8,
   "metadata": {
    "ExecuteTime": {
     "end_time": "2020-07-02T18:22:04.331077Z",
     "start_time": "2020-07-02T18:22:04.328191Z"
    }
   },
   "outputs": [],
   "source": [
    "ftc.dcdt['OM'] = '-R1-R2'\n",
    "ftc.dcdt['O2'] = '-R1-R8'\n",
    "ftc.dcdt['FeOH3'] = '-4*R2+R8/CF'\n",
    "ftc.dcdt['Fe2'] = '-R8+4*R2*CF'\n",
    "ftc.dcdt['TIC'] = 'R1+R2*CF'"
   ]
  },
  {
   "cell_type": "markdown",
   "metadata": {},
   "source": [
    "#### Because we are changing the boundary conditions for temperature and Oxygen (when T < 0 => no oxygen at the top), then we need to have a time loop:"
   ]
  },
  {
   "cell_type": "code",
   "execution_count": 9,
   "metadata": {
    "ExecuteTime": {
     "end_time": "2020-07-02T18:22:04.336004Z",
     "start_time": "2020-07-02T18:22:04.333455Z"
    }
   },
   "outputs": [],
   "source": [
    "# %pdb"
   ]
  },
  {
   "cell_type": "code",
   "execution_count": null,
   "metadata": {
    "ExecuteTime": {
     "start_time": "2020-07-02T18:22:03.032Z"
    }
   },
   "outputs": [
    {
     "name": "stdout",
     "output_type": "stream",
     "text": [
      "Boundary conditions changed for O2 at time 9.996297667530544e-05\n",
      "Boundary conditions changed for CO2g at time 9.996297667530544e-05\n",
      "Boundary conditions changed for O2 at time 0.019192891521658643\n",
      "Boundary conditions changed for CO2g at time 0.019192891521658643\n",
      "Boundary conditions changed for O2 at time 0.03838578304331729\n",
      "Boundary conditions changed for CO2g at time 0.03838578304331729\n",
      "Boundary conditions changed for O2 at time 0.05757867456497593\n",
      "Boundary conditions changed for CO2g at time 0.05757867456497593\n"
     ]
    }
   ],
   "source": [
    "for i in range(1, len(ftc.time)):\n",
    "    day_of_bi_week = (ftc.time[i]*365) % 14\n",
    "\n",
    "    if day_of_bi_week < 7:\n",
    "        ftc.Temperature.bc_top_value = 5  + 5 * np.sin(np.pi * 2 * ftc.time[i] * 365)\n",
    "    else:\n",
    "        ftc.Temperature.bc_top_value = -10  + 5 * np.sin(np.pi * 2 * ftc.time[i] * 365)\n",
    "        \n",
    "    # when T < 0 => 0 flux of oxygen and CO2 at the top:\n",
    "    if ftc.Temperature.bc_top_value < 0:\n",
    "        ftc.change_boundary_conditions('O2', i, bc_top_value=0, bc_top_type='flux', bc_bot_value=0, bc_bot_type='flux')\n",
    "        ftc.change_boundary_conditions('CO2g', i, bc_top_value=0, bc_top_type='flux', bc_bot_value=0, bc_bot_type='flux')\n",
    "    else:\n",
    "        ftc.change_boundary_conditions('O2', i, bc_top_value=0.231, bc_top_type='constant', bc_bot_value=0, bc_bot_type='flux')\n",
    "        ftc.change_boundary_conditions('CO2g', i, bc_top_value=0, bc_top_type='constant', bc_bot_value=0, bc_bot_type='flux')\n",
    "        \n",
    "    # Integrate one timestep:\n",
    "    ftc.integrate_one_timestep(i)"
   ]
  },
  {
   "cell_type": "markdown",
   "metadata": {},
   "source": [
    "### What we did with temperature"
   ]
  },
  {
   "cell_type": "code",
   "execution_count": null,
   "metadata": {
    "ExecuteTime": {
     "start_time": "2020-07-02T18:22:03.034Z"
    }
   },
   "outputs": [],
   "source": [
    "ftc.plot_depths(\"Temperature\",[0,1,3,7,10,40])"
   ]
  },
  {
   "cell_type": "markdown",
   "metadata": {},
   "source": [
    "### Concentrations of different species during the whole period of simulation:"
   ]
  },
  {
   "cell_type": "code",
   "execution_count": null,
   "metadata": {
    "ExecuteTime": {
     "start_time": "2020-07-02T18:22:03.035Z"
    },
    "scrolled": false
   },
   "outputs": [],
   "source": [
    "ftc.plot_contourplots()"
   ]
  },
  {
   "cell_type": "markdown",
   "metadata": {},
   "source": [
    "### The rates of consumption and production of species:"
   ]
  },
  {
   "cell_type": "code",
   "execution_count": null,
   "metadata": {
    "ExecuteTime": {
     "start_time": "2020-07-02T18:22:03.037Z"
    },
    "scrolled": false
   },
   "outputs": [],
   "source": [
    "ftc.reconstruct_rates()\n",
    "ftc.plot_contourplots_of_rates()"
   ]
  },
  {
   "cell_type": "code",
   "execution_count": null,
   "metadata": {
    "ExecuteTime": {
     "start_time": "2020-07-02T18:22:03.038Z"
    },
    "inputHidden": false,
    "outputHidden": false
   },
   "outputs": [],
   "source": [
    "ftc.plot_contourplots_of_deltas()"
   ]
  },
  {
   "cell_type": "markdown",
   "metadata": {},
   "source": [
    "### Profiles at the end of the simulation"
   ]
  },
  {
   "cell_type": "code",
   "execution_count": null,
   "metadata": {
    "ExecuteTime": {
     "start_time": "2020-07-02T18:22:03.040Z"
    }
   },
   "outputs": [],
   "source": [
    "Fx = ftc.estimate_flux_at_top('CO2g')\n",
    "ftc.custom_plot(ftc.time*365, 1e+3*Fx*1e+4/365/24/60/60,x_lbl='Days, [day]' , y_lbl='$F_{CO_2}$, $[\\mu mol$ $m^{-2}$ $s^{-1}]$')"
   ]
  },
  {
   "cell_type": "code",
   "execution_count": null,
   "metadata": {
    "ExecuteTime": {
     "start_time": "2020-07-02T18:22:03.041Z"
    },
    "inputHidden": false,
    "outputHidden": false
   },
   "outputs": [],
   "source": [
    "Fxco2 = 1e+3*Fx*1e+4/365/24/60/60\n",
    "Fxco2nz = (ftc.time*365<7)*Fxco2 + ((ftc.time*365>14) & (ftc.time*365<21))*Fxco2"
   ]
  },
  {
   "cell_type": "code",
   "execution_count": null,
   "metadata": {
    "ExecuteTime": {
     "start_time": "2020-07-02T18:22:03.042Z"
    }
   },
   "outputs": [],
   "source": [
    "import seaborn as sns\n",
    "\n",
    "fig, ax1 = plt.subplots(figsize=(5,3), dpi=200)\n",
    "ax2 = ax1.twinx()\n",
    "ax1.plot(ftc.time*365, Fxco2nz, label='$F_{CO_2}$', lw=3)\n",
    "ax2.plot(ftc.time*365, ftc.Temperature.concentration[0, :], 'k', lw=1, label='T at 0 cm')\n",
    "ax2.plot(ftc.time*365, ftc.Temperature.concentration[100, :], ls='-', c=sns.color_palette(\"deep\", 10)[3], lw=2, label='T at 20 cm')\n",
    "# ax1.scatter(NO3_t, NO3, c=sns.color_palette(\"deep\", 10)[0], lw=1)\n",
    "ax2.grid(False)\n",
    "ax1.grid(lw=0.2)\n",
    "ax2.set_ylim(-20, 20)\n",
    "ax1.set_xlim(0, 27)\n",
    "ax1.set_xlabel('Time, [days]')\n",
    "ax1.set_ylabel('$CO_2(g)$ flux, $[\\mu mol$ $m^{-2}$ $s^{-1}]$')\n",
    "ax2.set_ylabel('Temperature, [C]')\n",
    "ax1.set_ylim(0, 20)\n",
    "ax1.legend(frameon=1, loc=2)\n",
    "ax2.legend(frameon=1, loc=1)"
   ]
  },
  {
   "cell_type": "code",
   "execution_count": null,
   "metadata": {
    "ExecuteTime": {
     "start_time": "2020-07-02T18:22:03.043Z"
    },
    "inputHidden": false,
    "outputHidden": false
   },
   "outputs": [],
   "source": [
    "import math\n",
    "from matplotlib.colors import ListedColormap\n",
    "lab = ftc\n",
    "element = 'Fe2'\n",
    "labels=False\n",
    "days=False\n",
    "last_year=False\n",
    "plt.figure(figsize=(5,3), dpi=200)\n",
    "# plt.title('$Fe(II)$ concentration')\n",
    "resoluion = 100\n",
    "n = math.ceil(lab.time.size / resoluion)\n",
    "if last_year:\n",
    "    k = n - int(1 / lab.dt)\n",
    "else:\n",
    "    k = 1\n",
    "if days:\n",
    "    X, Y = np.meshgrid(lab.time[k::n] * 365, -lab.x)\n",
    "    plt.xlabel('Time')\n",
    "else:\n",
    "    X, Y = np.meshgrid(lab.time[k::n] * 365, -lab.x)\n",
    "    plt.xlabel('Time, [days]')\n",
    "z = lab.species[element]['concentration'][:, k - 1:-1:n]\n",
    "CS = plt.contourf(X, Y, z, 51, cmap=ListedColormap(\n",
    "    sns.color_palette(\"Blues\", 51)), origin='lower')\n",
    "if labels:\n",
    "    plt.clabel(CS, inline=1, fontsize=10, colors='w')\n",
    "cbar = plt.colorbar(CS)\n",
    "plt.ylabel('Depth, [cm]')\n",
    "ax = plt.gca()\n",
    "ax.ticklabel_format(useOffset=False)\n",
    "cbar.ax.set_ylabel('%s, [mM]' % element)"
   ]
  },
  {
   "cell_type": "code",
   "execution_count": null,
   "metadata": {
    "ExecuteTime": {
     "start_time": "2020-07-02T18:22:03.044Z"
    },
    "inputHidden": false,
    "outputHidden": false
   },
   "outputs": [],
   "source": [
    "plt.figure(figsize=(5,3), dpi=200)\n",
    "r='R2'\n",
    "n = math.ceil(lab.time.size / resoluion)\n",
    "if last_year:\n",
    "    k = n - int(1 / lab.dt)\n",
    "else:\n",
    "    k = 1\n",
    "z = lab.estimated_rates[r][:, k - 1:-1:n]\n",
    "# lim = np.max(np.abs(z))\n",
    "# lim = np.linspace(-lim - 0.1, +lim + 0.1, 51)\n",
    "X, Y = np.meshgrid(lab.time[k::n], -lab.x)\n",
    "plt.xlabel('Time, [days]')\n",
    "CS = plt.contourf(X*365, Y, z/365, 20, cmap=ListedColormap(\n",
    "    sns.color_palette(\"Blues\", 51)))\n",
    "if labels:\n",
    "    plt.clabel(CS, inline=1, fontsize=10, colors='w')\n",
    "cbar = plt.colorbar(CS)\n",
    "plt.ylabel('Depth, [cm]')\n",
    "ax = plt.gca()\n",
    "ax.ticklabel_format(useOffset=False)\n",
    "cbar.ax.set_ylabel(r'Rate R2, [$mM$ $d^{-1}$]')"
   ]
  },
  {
   "cell_type": "code",
   "execution_count": null,
   "metadata": {
    "ExecuteTime": {
     "start_time": "2020-07-02T18:22:03.045Z"
    },
    "inputHidden": false,
    "outputHidden": false
   },
   "outputs": [],
   "source": [
    "plt.figure(figsize=(5,3),dpi=200)\n",
    "element='FeOH3'\n",
    "resoluion = 100\n",
    "n = math.ceil(lab.time.size / resoluion)\n",
    "if last_year:\n",
    "    k = n - int(1 / lab.dt)\n",
    "else:\n",
    "    k = 1\n",
    "z = lab.species[element]['rates'][:, k - 1:-1:n]/365\n",
    "lim = np.max(np.abs(z))\n",
    "lim = np.linspace(-lim, +lim, 51)\n",
    "X, Y = np.meshgrid(lab.time[k:-1:n], -lab.x)\n",
    "plt.xlabel('Time, [days]')\n",
    "CS = plt.contourf(X*365, Y, z, 20, cmap=ListedColormap(sns.color_palette(\n",
    "    \"RdBu_r\", 101)), origin='lower', levels=lim, extend='both')\n",
    "if labels:\n",
    "    plt.clabel(CS, inline=1, fontsize=10, colors='w')\n",
    "cbar = plt.colorbar(CS)\n",
    "plt.ylabel('Depth, [cm]')\n",
    "ax = plt.gca()\n",
    "ax.ticklabel_format(useOffset=False)\n",
    "cbar.ax.set_ylabel('$\\Delta$ $Fe(OH)_3$ [$mM$ $d^{-1}$]')"
   ]
  },
  {
   "cell_type": "code",
   "execution_count": null,
   "metadata": {
    "inputHidden": false,
    "outputHidden": false
   },
   "outputs": [],
   "source": []
  }
 ],
 "metadata": {
  "anaconda-cloud": {},
  "kernel_info": {
   "name": "python3"
  },
  "kernelspec": {
   "display_name": "Python 3",
   "language": "python",
   "name": "python3"
  },
  "language_info": {
   "codemirror_mode": {
    "name": "ipython",
    "version": 3
   },
   "file_extension": ".py",
   "mimetype": "text/x-python",
   "name": "python",
   "nbconvert_exporter": "python",
   "pygments_lexer": "ipython3",
   "version": "3.7.6"
  },
  "nteract": {
   "version": "0.11.9"
  }
 },
 "nbformat": 4,
 "nbformat_minor": 1
}
